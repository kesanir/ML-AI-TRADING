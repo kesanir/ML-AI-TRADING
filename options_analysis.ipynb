{
  "nbformat": 4,
  "nbformat_minor": 0,
  "metadata": {
    "colab": {
      "provenance": [],
      "authorship_tag": "ABX9TyMvGpft6eyQCXchw8juUtSI",
      "include_colab_link": true
    },
    "kernelspec": {
      "name": "python3",
      "display_name": "Python 3"
    },
    "language_info": {
      "name": "python"
    }
  },
  "cells": [
    {
      "cell_type": "markdown",
      "metadata": {
        "id": "view-in-github",
        "colab_type": "text"
      },
      "source": [
        "<a href=\"https://colab.research.google.com/github/kesanir/ML-AI-TRADING/blob/main/options_analysis.ipynb\" target=\"_parent\"><img src=\"https://colab.research.google.com/assets/colab-badge.svg\" alt=\"Open In Colab\"/></a>"
      ]
    },
    {
      "cell_type": "code",
      "execution_count": null,
      "metadata": {
        "colab": {
          "base_uri": "https://localhost:8080/"
        },
        "id": "5hZbamW_pFZI",
        "outputId": "d76df562-25cf-45ef-dd9e-8e89f4cb1b6f"
      },
      "outputs": [
        {
          "output_type": "stream",
          "name": "stdout",
          "text": [
            "2025-02-28\n",
            "         contractSymbol  strike  lastPrice  openInterest  implied_volatility\n",
            "52  TSLA250228C00380000   380.0       4.45        5368.0            0.504033\n",
            "51  TSLA250228C00377500   377.5       5.04         789.0            0.503545\n",
            "50  TSLA250228C00375000   375.0       5.74        5466.0            0.502080\n",
            "49  TSLA250228C00372500   372.5       6.48         772.0            0.500859\n",
            "48  TSLA250228C00370000   370.0       7.30        4652.0            0.503118\n"
          ]
        }
      ],
      "source": [
        "#!pip install yfinance --upgrade --no-cache-dir\n",
        "import pandas as pd\n",
        "import yfinance as yf\n",
        "from datetime import datetime, timedelta\n",
        "\n",
        "# Step 1: Download options data for the previous day\n",
        "def download_options_data(symbol, date):\n",
        "    # Get the date for the previous trading day\n",
        "    #prev_date = date - timedelta(days=1)\n",
        "    #while prev_date.weekday() > 4:  # Skip weekend\n",
        "     #   prev_date -= timedelta(days=1)\n",
        "\n",
        "     # Start with the given date\n",
        "    prev_date = date\n",
        "    #while prev_date.weekday() != 4:  # 4 represents Friday\n",
        "    #    prev_date -= timedelta(days=1)\n",
        "    days_ahead = (4 - prev_date.weekday()) % 7  # Calculate days until next Friday\n",
        "    prev_date = (prev_date + timedelta(days=days_ahead) + timedelta(days=7))\n",
        "    print (prev_date)\n",
        "\n",
        "    # Fetch options data\n",
        "    ticker = yf.Ticker(symbol)\n",
        "    options = ticker.option_chain(prev_date.strftime('%Y-%m-%d'))\n",
        "\n",
        "    # Combine calls and puts into one DataFrame\n",
        "    options_chain = pd.concat([options.calls, options.puts])\n",
        "    #options_chain['expirationDate'] = pd.to_datetime(options_chain['expirationDate'])\n",
        "\n",
        "    return options_chain\n",
        "\n",
        "# Step 2: Analyze data for potential trades\n",
        "def analyze_options(options_data):\n",
        "    # Here's a very basic analysis:\n",
        "    # - Look for options with high open interest but low implied volatility\n",
        "    # - This is a simplified model; real analysis would be much more sophisticated\n",
        "    options_data['implied_volatility'] = options_data['impliedVolatility']  # Just renaming for clarity\n",
        "\n",
        "    # Filter for options with high open interest and relatively low implied volatility\n",
        "    potential_trades = options_data[(options_data['openInterest'] > options_data['openInterest'].quantile(0.75)) &\n",
        "                                    (options_data['implied_volatility'] < options_data['implied_volatility'].quantile(0.5))]\n",
        "\n",
        "    # Sort by potential return (this is very simplistic; might not correlate with actual profit)\n",
        "    potential_trades = potential_trades.sort_values('lastPrice', ascending=True)\n",
        "    #return potential_trades[['contractSymbol', 'strike', 'lastPrice', 'openInterest', 'implied_volatility', 'expirationDate']]\n",
        "    return potential_trades[['contractSymbol', 'strike', 'lastPrice', 'openInterest', 'implied_volatility','volume']]\n",
        "\n",
        "# Main function to run the analysis\n",
        "def main():\n",
        "    symbol = \"TSLA\"  # Example stock symbol\n",
        "    today = datetime.now().date()\n",
        "\n",
        "    # Download options data\n",
        "    options_data = download_options_data(symbol, today)\n",
        "\n",
        "    if options_data.empty:\n",
        "        print(\"No options data available for the given date.\")\n",
        "        return\n",
        "\n",
        "    # Analyze the data\n",
        "    trade_opportunities = analyze_options(options_data)\n",
        "\n",
        "    # Display top 5 potential trades\n",
        "    print(trade_opportunities.head())\n",
        "\n",
        "if __name__ == \"__main__\":\n",
        "    main()"
      ]
    }
  ]
}