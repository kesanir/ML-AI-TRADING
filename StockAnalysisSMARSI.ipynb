{
 "cells": [
  {
   "cell_type": "code",
   "execution_count": 3,
   "id": "545b7bb7",
   "metadata": {},
   "outputs": [],
   "source": [
    "import numpy as np\n",
    "import pandas as pd\n",
    "from sklearn.model_selection import train_test_split\n",
    "from sklearn.ensemble import RandomForestRegressor\n",
    "from sklearn.preprocessing import StandardScaler\n",
    "from sklearn.metrics import mean_squared_error\n",
    "import yfinance as yf"
   ]
  },
  {
   "cell_type": "code",
   "execution_count": 29,
   "id": "6c559e0d",
   "metadata": {},
   "outputs": [],
   "source": [
    "# For fetching financial data  \n",
    "class DataFetcher:\n",
    "    def __init__(self, ticker, start_date, end_date):\n",
    "        self.ticker = ticker\n",
    "        self.start_date = start_date\n",
    "        self.end_date = end_date\n",
    "    def fetch_data(self):\n",
    "            data = yf.download(self.ticker, start=self.start_date, end=self.end_date)\n",
    "            return data"
   ]
  },
  {
   "cell_type": "code",
   "execution_count": 32,
   "id": "b9961ce2",
   "metadata": {},
   "outputs": [],
   "source": [
    "class FeatureEngineer:\n",
    "    def __init__(self, data):\n",
    "        self.data = data\n",
    "    def create_features(self):\n",
    "            # Example features \n",
    "            self.data['SMA_20'] = self.data['Close'].rolling(window=20).mean()\n",
    "            self.data['RSI'] = self.calculate_rsi()\n",
    "            return self.data.dropna()\n",
    "    def calculate_rsi(self, period=14):\n",
    "            delta = self.data['Close'].diff()\n",
    "            gain = (delta.where(delta > 0, 0)).rolling(window=period).mean()\n",
    "            loss = (-delta.where(delta < 0, 0)).rolling(window=period).mean()\n",
    "            rs = gain / loss\n",
    "            return 100 - (100 / (1 + rs))"
   ]
  },
  {
   "cell_type": "code",
   "execution_count": 36,
   "id": "6c4b0b23",
   "metadata": {},
   "outputs": [],
   "source": [
    "class Model:\n",
    "    def __init__(self):\n",
    "        self.model = RandomForestRegressor(n_estimators=100, random_state=42)\n",
    "        self.scaler = StandardScaler()\n",
    "    def train(self, X, y):\n",
    "            X_scaled = self.scaler.fit_transform(X)\n",
    "            X_train, X_test, y_train, y_test = train_test_split(X_scaled, y, test_size=0.2, random_state=42)\n",
    "            self.model.fit(X_train, y_train)\n",
    "            predictions = self.model.predict(X_test)\n",
    "            mse = mean_squared_error(y_test, predictions)\n",
    "            return mse\n",
    "    def predict(self, X):\n",
    "            X_scaled = self.scaler.transform(X)\n",
    "            return self.model.predict(X_scaled)"
   ]
  },
  {
   "cell_type": "code",
   "execution_count": 38,
   "id": "1c2aa5e5",
   "metadata": {},
   "outputs": [],
   "source": [
    "class Strategy:\n",
    "    def __init__(self, model, threshold=0.5):\n",
    "        self.model = model\n",
    "        self.threshold = threshold\n",
    "    def make_decision(self, features):\n",
    "        prediction = self.model.predict(features.reshape(1, -1))\n",
    "        if prediction > self.threshold:\n",
    "            return \"Buy\"\n",
    "        elif prediction < -self.threshold:\n",
    "             return \"Sell\"\n",
    "        else:\n",
    "             return prediction"
   ]
  },
  {
   "cell_type": "code",
   "execution_count": 27,
   "id": "dbd82d10",
   "metadata": {},
   "outputs": [],
   "source": [
    "class HedgeFundTeam:\n",
    "    def __init__(self, ticker, start_date, end_date):\n",
    "        self.ticker = ticker\n",
    "        self.data_fetcher = DataFetcher(ticker, start_date, end_date)\n",
    "        self.feature_engineer = None\n",
    "        self.model = Model()\n",
    "        self.strategy = None\n",
    "    def run(self):\n",
    "            data = self.data_fetcher.fetch_data()\n",
    "            self.feature_engineer = FeatureEngineer(data)\n",
    "            features = self.feature_engineer.create_features()\n",
    "            X = features[['SMA_20', 'RSI']].values\n",
    "            y = features['Close'].pct_change().shift(-1).fillna(0).values\n",
    "            mse = self.model.train(X, y)\n",
    "            print(f\"Model Mean Squared Error: {mse}\")\n",
    "            self.strategy = Strategy(self.model)\n",
    "            # Simulate trading decisions for the last few days \n",
    "            for i in range(-10, 0):\n",
    "                # Last 10 days\n",
    "                decision = self.strategy.make_decision(X[i])\n",
    "                print(f\"Day {i}: Decision - {decision}\")          "
   ]
  },
  {
   "cell_type": "code",
   "execution_count": 39,
   "id": "c0af9611",
   "metadata": {},
   "outputs": [
    {
     "name": "stderr",
     "output_type": "stream",
     "text": [
      "[*********************100%***********************]  1 of 1 completed\n",
      "C:\\Users\\Maansi\\AppData\\Local\\Temp\\ipykernel_12528\\828837541.py:8: DataConversionWarning: A column-vector y was passed when a 1d array was expected. Please change the shape of y to (n_samples,), for example using ravel().\n",
      "  self.model.fit(X_train, y_train)\n"
     ]
    },
    {
     "name": "stdout",
     "output_type": "stream",
     "text": [
      "Model Mean Squared Error: 0.00034994414310572387\n",
      "Day -10: Decision - [-0.01760325]\n",
      "Day -9: Decision - [-0.01077561]\n",
      "Day -8: Decision - [-0.00844076]\n",
      "Day -7: Decision - [0.00524762]\n",
      "Day -6: Decision - [-0.02248565]\n",
      "Day -5: Decision - [-0.017691]\n",
      "Day -4: Decision - [-0.01946815]\n",
      "Day -3: Decision - [2.33105525e-05]\n",
      "Day -2: Decision - [0.00851117]\n",
      "Day -1: Decision - [-0.00301645]\n"
     ]
    }
   ],
   "source": [
    "# Usage \n",
    "team = HedgeFundTeam('AAPL', '2021-01-01', '2025-01-24')\n",
    "team.run()"
   ]
  }
 ],
 "metadata": {
  "kernelspec": {
   "display_name": "Python 3 (ipykernel)",
   "language": "python",
   "name": "python3"
  },
  "language_info": {
   "codemirror_mode": {
    "name": "ipython",
    "version": 3
   },
   "file_extension": ".py",
   "mimetype": "text/x-python",
   "name": "python",
   "nbconvert_exporter": "python",
   "pygments_lexer": "ipython3",
   "version": "3.9.13"
  }
 },
 "nbformat": 4,
 "nbformat_minor": 5
}
