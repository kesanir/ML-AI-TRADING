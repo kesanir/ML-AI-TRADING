{
  "cells": [
    {
      "cell_type": "markdown",
      "metadata": {
        "id": "view-in-github",
        "colab_type": "text"
      },
      "source": [
        "<a href=\"https://colab.research.google.com/github/kesanir/ML-AI-TRADING/blob/main/Copy_of_generate_python_code_to_get_options_data_using_yahoo_finance_to_execute_in_colabs.ipynb\" target=\"_parent\"><img src=\"https://colab.research.google.com/assets/colab-badge.svg\" alt=\"Open In Colab\"/></a>"
      ]
    },
    {
      "cell_type": "markdown",
      "source": [
        "Sure, here is the Python code to get options data using Yahoo Finance to execute in Colab:"
      ],
      "metadata": {
        "id": "4XXf_-qqOQCN"
      }
    },
    {
      "cell_type": "code",
      "source": [
        "#!pip install yfinance --upgrade --no-cache-dir\n",
        "import yfinance as yf\n",
        "import pandas as pd\n",
        "\n",
        "# Get the options data for the AAPL stock\n",
        "# Changed options_chain to option_chain\n",
        "options_data = yf.Ticker(\"AAPL\").option_chain('2025-02-21')\n",
        "#print (options_data)\n",
        "#yf.Ticker(\"AAPL\").options will return a list of expiration dates\n",
        "# use yf.Ticker(\"AAPL\").option_chain to get the option chain for a specific expiration date\n",
        "calls,puts = options_data.calls, options_data.puts\n",
        "# '2023-06-16' is an example, replace with the desired date\n",
        "\n",
        "\n",
        "# Print the options data for calls and puts for the specified expiration date\n",
        "#print(\"Calls:\", calls)\n",
        "#print(\"Puts:\", puts)\n",
        "\n",
        "# prompt: get the data into datafram\n",
        "\n",
        "\n",
        "\n",
        "calls_df = pd.DataFrame(calls)\n",
        "puts_df = pd.DataFrame(puts)\n",
        "\n",
        "#print(\"Calls DataFrame:\")\n",
        "#print(calls_df)\n",
        "\n",
        "#print(\"\\nPuts DataFrame:\")\n",
        "#puts_df\n",
        "\n",
        "filtered_df = calls_df[calls_df [\"volume\"] > calls_df[\"openInterest\"]]\n",
        "# Print only the specified columns\n",
        "print(filtered_df[[\"contractSymbol\", \"strike\", \"lastPrice\", \"volume\", \"openInterest\"]])"
      ],
      "metadata": {
        "colab": {
          "base_uri": "https://localhost:8080/"
        },
        "id": "GXu8CNtTzYaL",
        "outputId": "d82cc9fb-4240-4114-ca08-7d4e930a7747"
      },
      "execution_count": null,
      "outputs": [
        {
          "output_type": "stream",
          "name": "stdout",
          "text": [
            "         contractSymbol  strike  lastPrice  volume  openInterest\n",
            "3   AAPL250221C00115000   115.0     113.65       6             1\n",
            "4   AAPL250221C00120000   120.0     118.95       1             0\n",
            "34  AAPL250221C00235000   235.0      10.15   15660         11137\n",
            "38  AAPL250221C00245000   245.0       1.66   72559         36453\n",
            "39  AAPL250221C00247500   247.5       0.68   45703         14535\n"
          ]
        }
      ]
    },
    {
      "cell_type": "code",
      "source": [],
      "metadata": {
        "id": "t1WDITVM0an3"
      },
      "execution_count": null,
      "outputs": []
    },
    {
      "cell_type": "code",
      "source": [
        "# prompt: add condition to filtered_df to print only max volume\n",
        "#!pip install yfinance --upgrade --no-cache-dir\n",
        "import yfinance as yf\n",
        "import pandas as pd\n",
        "\n",
        "# Changed options_chain to option_chain\n",
        "options_data = yf.Ticker(\"TSLA\").option_chain('2025-02-21')\n",
        "\n",
        "calls,puts = options_data.calls, options_data.puts\n",
        "\n",
        "calls_df = pd.DataFrame(calls)\n",
        "puts_df = pd.DataFrame(puts)\n",
        "\n",
        "filtered_df = calls_df[calls_df[\"volume\"] > calls_df[\"openInterest\"]]\n",
        "\n",
        "# Find the row with the maximum volume\n",
        "max_volume_row = filtered_df.loc[filtered_df['volume'].idxmax()]\n",
        "\n",
        "# Print only the row with the maximum volume\n",
        "print(max_volume_row[[\"contractSymbol\", \"strike\", \"lastPrice\", \"volume\", \"openInterest\"]])\n"
      ],
      "metadata": {
        "colab": {
          "base_uri": "https://localhost:8080/"
        },
        "id": "YfzS_-Qp0ap3",
        "outputId": "25f9eaac-0020-497f-d30b-6b5e70a1cdad"
      },
      "execution_count": null,
      "outputs": [
        {
          "output_type": "stream",
          "name": "stdout",
          "text": [
            "contractSymbol    TSLA250221C00370000\n",
            "strike                          370.0\n",
            "lastPrice                        2.24\n",
            "volume                       131133.0\n",
            "openInterest                    23758\n",
            "Name: 83, dtype: object\n"
          ]
        }
      ]
    }
  ],
  "metadata": {
    "colab": {
      "provenance": [],
      "include_colab_link": true
    },
    "kernelspec": {
      "display_name": "Python 3",
      "name": "python3"
    }
  },
  "nbformat": 4,
  "nbformat_minor": 0
}