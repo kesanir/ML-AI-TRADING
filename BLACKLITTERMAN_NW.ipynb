{
  "nbformat": 4,
  "nbformat_minor": 0,
  "metadata": {
    "colab": {
      "provenance": [],
      "authorship_tag": "ABX9TyNIjNqkjbDx4a9Q0UqUWe1T",
      "include_colab_link": true
    },
    "kernelspec": {
      "name": "python3",
      "display_name": "Python 3"
    },
    "language_info": {
      "name": "python"
    }
  },
  "cells": [
    {
      "cell_type": "markdown",
      "metadata": {
        "id": "view-in-github",
        "colab_type": "text"
      },
      "source": [
        "<a href=\"https://colab.research.google.com/github/kesanir/ML-AI-TRADING/blob/main/BLACKLITTERMAN_NW.ipynb\" target=\"_parent\"><img src=\"https://colab.research.google.com/assets/colab-badge.svg\" alt=\"Open In Colab\"/></a>"
      ]
    },
    {
      "cell_type": "code",
      "source": [
        "!pip install yfinance --upgrade --no-cache-dir"
      ],
      "metadata": {
        "colab": {
          "base_uri": "https://localhost:8080/"
        },
        "id": "sYwNBgt88CAY",
        "outputId": "5acdb885-4c24-4e39-cc0a-371df367a7c9"
      },
      "execution_count": 3,
      "outputs": [
        {
          "output_type": "stream",
          "name": "stdout",
          "text": [
            "Requirement already satisfied: yfinance in /usr/local/lib/python3.11/dist-packages (0.2.54)\n",
            "Requirement already satisfied: pandas>=1.3.0 in /usr/local/lib/python3.11/dist-packages (from yfinance) (2.2.2)\n",
            "Requirement already satisfied: numpy>=1.16.5 in /usr/local/lib/python3.11/dist-packages (from yfinance) (1.26.4)\n",
            "Requirement already satisfied: requests>=2.31 in /usr/local/lib/python3.11/dist-packages (from yfinance) (2.32.3)\n",
            "Requirement already satisfied: multitasking>=0.0.7 in /usr/local/lib/python3.11/dist-packages (from yfinance) (0.0.11)\n",
            "Requirement already satisfied: platformdirs>=2.0.0 in /usr/local/lib/python3.11/dist-packages (from yfinance) (4.3.6)\n",
            "Requirement already satisfied: pytz>=2022.5 in /usr/local/lib/python3.11/dist-packages (from yfinance) (2025.1)\n",
            "Requirement already satisfied: frozendict>=2.3.4 in /usr/local/lib/python3.11/dist-packages (from yfinance) (2.4.6)\n",
            "Requirement already satisfied: peewee>=3.16.2 in /usr/local/lib/python3.11/dist-packages (from yfinance) (3.17.9)\n",
            "Requirement already satisfied: beautifulsoup4>=4.11.1 in /usr/local/lib/python3.11/dist-packages (from yfinance) (4.13.3)\n",
            "Requirement already satisfied: soupsieve>1.2 in /usr/local/lib/python3.11/dist-packages (from beautifulsoup4>=4.11.1->yfinance) (2.6)\n",
            "Requirement already satisfied: typing-extensions>=4.0.0 in /usr/local/lib/python3.11/dist-packages (from beautifulsoup4>=4.11.1->yfinance) (4.12.2)\n",
            "Requirement already satisfied: python-dateutil>=2.8.2 in /usr/local/lib/python3.11/dist-packages (from pandas>=1.3.0->yfinance) (2.8.2)\n",
            "Requirement already satisfied: tzdata>=2022.7 in /usr/local/lib/python3.11/dist-packages (from pandas>=1.3.0->yfinance) (2025.1)\n",
            "Requirement already satisfied: charset-normalizer<4,>=2 in /usr/local/lib/python3.11/dist-packages (from requests>=2.31->yfinance) (3.4.1)\n",
            "Requirement already satisfied: idna<4,>=2.5 in /usr/local/lib/python3.11/dist-packages (from requests>=2.31->yfinance) (3.10)\n",
            "Requirement already satisfied: urllib3<3,>=1.21.1 in /usr/local/lib/python3.11/dist-packages (from requests>=2.31->yfinance) (2.3.0)\n",
            "Requirement already satisfied: certifi>=2017.4.17 in /usr/local/lib/python3.11/dist-packages (from requests>=2.31->yfinance) (2025.1.31)\n",
            "Requirement already satisfied: six>=1.5 in /usr/local/lib/python3.11/dist-packages (from python-dateutil>=2.8.2->pandas>=1.3.0->yfinance) (1.17.0)\n"
          ]
        }
      ]
    },
    {
      "cell_type": "code",
      "source": [
        "import numpy as np\n",
        "import pandas as pd\n",
        "import yfinance as yf\n",
        "from datetime import datetime, timedelta"
      ],
      "metadata": {
        "id": "sPUTfFJ78M7E"
      },
      "execution_count": 11,
      "outputs": []
    },
    {
      "cell_type": "code",
      "source": [
        "def get_market_data(tickers, start_date, end_date):\n",
        "    \"\"\"Fetch historical price data using yfinance\"\"\"\n",
        "    data = yf.download(tickers, start=start_date, end=end_date)['Close']\n",
        "    return data"
      ],
      "metadata": {
        "id": "aokjWm3W8ZCO"
      },
      "execution_count": 12,
      "outputs": []
    },
    {
      "cell_type": "code",
      "source": [
        "def calculate_returns(prices):\n",
        "    \"\"\"Calculate daily returns and annualized metrics\"\"\"\n",
        "    returns = prices.pct_change().dropna()\n",
        "    mean_returns = returns.mean() * 252  # Annualized returns\n",
        "    cov_matrix = returns.cov() * 252     # Annualized covariance\n",
        "    return mean_returns, cov_matrix"
      ],
      "metadata": {
        "id": "CRUqdpqY8bk9"
      },
      "execution_count": 13,
      "outputs": []
    },
    {
      "cell_type": "code",
      "source": [
        "def black_litterman_returns(mean_returns, cov_matrix, risk_aversion, views, view_confidences):\n",
        "    \"\"\"\n",
        "    Calculate Black-Litterman expected returns\n",
        "    Parameters:\n",
        "        mean_returns: Prior expected returns\n",
        "        cov_matrix: Covariance matrix\n",
        "        risk_aversion: Risk aversion coefficient\n",
        "        views: Dictionary of views (asset: expected return)\n",
        "        view_confidences: Dictionary of confidence levels (0-1)\n",
        "    \"\"\"\n",
        "    n_assets = len(mean_returns)\n",
        "    P = np.zeros((len(views), n_assets))  # Pick matrix\n",
        "    Q = np.zeros(len(views))              # View returns\n",
        "    Omega = np.zeros((len(views), len(views)))  # Uncertainty matrix\n",
        "\n",
        "    # Market equilibrium returns (implied excess returns)\n",
        "    w_mkt = np.array([0.40, 0.30, 0.20, 0.10])  # Market portfolio weights (SPY, TLT, EEM, GLD)\n",
        "    pi = risk_aversion * cov_matrix @ w_mkt\n",
        "\n",
        "    # Populate views matrices\n",
        "    asset_idx = {'SPY': 0, 'TLT': 1, 'EEM': 2, 'GLD': 3}\n",
        "    tickers = list(asset_idx.keys()) # Get the list of tickers\n",
        "    for i, (asset, view_ret) in enumerate(views.items()):\n",
        "        P[i, asset_idx[asset]] = 1\n",
        "        Q[i] = view_ret\n",
        "        # Access covariance matrix using column/index labels\n",
        "        #Omega[i, i] = (1/view_confidences[asset] - 1) * cov_matrix[asset_idx[asset], asset_idx[asset]]\n",
        "        Omega[i, i] = (1/view_confidences[asset] - 1) * cov_matrix[asset_idx[asset], asset_idx[asset]]\n",
        "\n",
        "    # Black-Litterman calculations\n",
        "    tau = 0.025  # Scaling factor for uncertainty\n",
        "    cov_inv = np.linalg.inv(cov_matrix)\n",
        "    omega_inv = np.linalg.inv(Omega)\n",
        "\n",
        "    term1 = np.linalg.inv(tau * cov_inv + P.T @ omega_inv @ P)\n",
        "    term2 = tau * cov_inv @ pi + P.T @ omega_inv @ Q\n",
        "\n",
        "    bl_returns = term1 @ term2\n",
        "    return bl_returns\n"
      ],
      "metadata": {
        "id": "UJHrPvsh8cMO"
      },
      "execution_count": 20,
      "outputs": []
    },
    {
      "cell_type": "code",
      "source": [
        "def optimize_portfolio(bl_returns, cov_matrix, risk_free_rate=0.02):\n",
        "    \"\"\"Calculate optimal portfolio weights\"\"\"\n",
        "    excess_returns = bl_returns - risk_free_rate\n",
        "    cov_inv = np.linalg.inv(cov_matrix)\n",
        "\n",
        "    # Optimal weights (tangency portfolio)\n",
        "    weights = cov_inv @ excess_returns\n",
        "    weights = weights / np.sum(weights)\n",
        "    return weights"
      ],
      "metadata": {
        "id": "5Tqo9WuU8cmX"
      },
      "execution_count": 15,
      "outputs": []
    },
    {
      "cell_type": "code",
      "source": [
        "def main():\n",
        "    # Parameters\n",
        "    tickers = ['SPY', 'TLT', 'EEM', 'GLD']\n",
        "    end_date = datetime(2025, 3, 1)\n",
        "    start_date = end_date - timedelta(days=252*2)  # 2 years of data\n",
        "    risk_aversion = 2.5\n",
        "\n",
        "    # Get market data\n",
        "    prices = get_market_data(tickers, start_date, end_date)\n",
        "\n",
        "    # Calculate returns and covariance\n",
        "    mean_returns, cov_matrix = calculate_returns(prices)\n",
        "\n",
        "    # Define investor views (example)\n",
        "    views = {\n",
        "        'SPY': 0.08,  # 8% expected return for SPY\n",
        "        'TLT': 0.03,  # 3% expected return for TLT\n",
        "        'EEM': 0.10,  # 10% expected return for EEM\n",
        "        'GLD': 0.05   # 5% expected return for GLD\n",
        "    }\n",
        "    view_confidences = {\n",
        "        'SPY': 0.9,   # 90% confidence\n",
        "        'TLT': 0.7,   # 70% confidence\n",
        "        'EEM': 0.8,   # 80% confidence\n",
        "        'GLD': 0.6    # 60% confidence\n",
        "    }\n",
        "\n",
        "    # Calculate Black-Litterman returns\n",
        "    bl_returns = black_litterman_returns(\n",
        "        mean_returns,\n",
        "        cov_matrix,\n",
        "        risk_aversion,\n",
        "        views,\n",
        "        view_confidences\n",
        "    )\n",
        "\n",
        "    # Optimize portfolio\n",
        "    weights = optimize_portfolio(bl_returns, cov_matrix)\n",
        "\n",
        "    # Display results\n",
        "    print(\"Black-Litterman Expected Returns:\")\n",
        "    for ticker, ret in zip(tickers, bl_returns):\n",
        "        print(f\"{ticker}: {ret:.4%}\")\n",
        "\n",
        "    print(\"\\nOptimal Portfolio Weights:\")\n",
        "    for ticker, weight in zip(tickers, weights):\n",
        "        print(f\"{ticker}: {weight:.4%}\")\n",
        "\n",
        "    # Calculate portfolio stats\n",
        "    portfolio_return = np.dot(weights, bl_returns)\n",
        "    portfolio_vol = np.sqrt(weights.T @ cov_matrix @ weights)\n",
        "    sharpe_ratio = (portfolio_return - 0.02) / portfolio_vol\n",
        "\n",
        "    print(\"\\nPortfolio Statistics:\")\n",
        "    print(f\"Expected Return: {portfolio_return:.4%}\")\n",
        "    print(f\"Volatility: {portfolio_vol:.4%}\")\n",
        "    print(f\"Sharpe Ratio: {sharpe_ratio:.4f}\")\n",
        "\n"
      ],
      "metadata": {
        "id": "vLMqnLQ88dCL"
      },
      "execution_count": 21,
      "outputs": []
    },
    {
      "cell_type": "code",
      "source": [
        "if __name__ == \"__main__\":\n",
        "    main()"
      ],
      "metadata": {
        "colab": {
          "base_uri": "https://localhost:8080/",
          "height": 564
        },
        "id": "-oc7BVQy8dhs",
        "outputId": "ea24f56b-db1c-4472-8b19-c0cd643a55fd"
      },
      "execution_count": 22,
      "outputs": [
        {
          "output_type": "stream",
          "name": "stderr",
          "text": [
            "[*********************100%***********************]  4 of 4 completed\n"
          ]
        },
        {
          "output_type": "error",
          "ename": "KeyError",
          "evalue": "(0, 0)",
          "traceback": [
            "\u001b[0;31m---------------------------------------------------------------------------\u001b[0m",
            "\u001b[0;31mKeyError\u001b[0m                                  Traceback (most recent call last)",
            "\u001b[0;32m/usr/local/lib/python3.11/dist-packages/pandas/core/indexes/base.py\u001b[0m in \u001b[0;36mget_loc\u001b[0;34m(self, key)\u001b[0m\n\u001b[1;32m   3804\u001b[0m         \u001b[0;32mtry\u001b[0m\u001b[0;34m:\u001b[0m\u001b[0;34m\u001b[0m\u001b[0;34m\u001b[0m\u001b[0m\n\u001b[0;32m-> 3805\u001b[0;31m             \u001b[0;32mreturn\u001b[0m \u001b[0mself\u001b[0m\u001b[0;34m.\u001b[0m\u001b[0m_engine\u001b[0m\u001b[0;34m.\u001b[0m\u001b[0mget_loc\u001b[0m\u001b[0;34m(\u001b[0m\u001b[0mcasted_key\u001b[0m\u001b[0;34m)\u001b[0m\u001b[0;34m\u001b[0m\u001b[0;34m\u001b[0m\u001b[0m\n\u001b[0m\u001b[1;32m   3806\u001b[0m         \u001b[0;32mexcept\u001b[0m \u001b[0mKeyError\u001b[0m \u001b[0;32mas\u001b[0m \u001b[0merr\u001b[0m\u001b[0;34m:\u001b[0m\u001b[0;34m\u001b[0m\u001b[0;34m\u001b[0m\u001b[0m\n",
            "\u001b[0;32mindex.pyx\u001b[0m in \u001b[0;36mpandas._libs.index.IndexEngine.get_loc\u001b[0;34m()\u001b[0m\n",
            "\u001b[0;32mindex.pyx\u001b[0m in \u001b[0;36mpandas._libs.index.IndexEngine.get_loc\u001b[0;34m()\u001b[0m\n",
            "\u001b[0;32mpandas/_libs/hashtable_class_helper.pxi\u001b[0m in \u001b[0;36mpandas._libs.hashtable.PyObjectHashTable.get_item\u001b[0;34m()\u001b[0m\n",
            "\u001b[0;32mpandas/_libs/hashtable_class_helper.pxi\u001b[0m in \u001b[0;36mpandas._libs.hashtable.PyObjectHashTable.get_item\u001b[0;34m()\u001b[0m\n",
            "\u001b[0;31mKeyError\u001b[0m: (0, 0)",
            "\nThe above exception was the direct cause of the following exception:\n",
            "\u001b[0;31mKeyError\u001b[0m                                  Traceback (most recent call last)",
            "\u001b[0;32m<ipython-input-22-972361fa1b80>\u001b[0m in \u001b[0;36m<cell line: 0>\u001b[0;34m()\u001b[0m\n\u001b[1;32m      1\u001b[0m \u001b[0;32mif\u001b[0m \u001b[0m__name__\u001b[0m \u001b[0;34m==\u001b[0m \u001b[0;34m\"__main__\"\u001b[0m\u001b[0;34m:\u001b[0m\u001b[0;34m\u001b[0m\u001b[0;34m\u001b[0m\u001b[0m\n\u001b[0;32m----> 2\u001b[0;31m     \u001b[0mmain\u001b[0m\u001b[0;34m(\u001b[0m\u001b[0;34m)\u001b[0m\u001b[0;34m\u001b[0m\u001b[0;34m\u001b[0m\u001b[0m\n\u001b[0m",
            "\u001b[0;32m<ipython-input-21-64f8fbb3d177>\u001b[0m in \u001b[0;36mmain\u001b[0;34m()\u001b[0m\n\u001b[1;32m     27\u001b[0m \u001b[0;34m\u001b[0m\u001b[0m\n\u001b[1;32m     28\u001b[0m     \u001b[0;31m# Calculate Black-Litterman returns\u001b[0m\u001b[0;34m\u001b[0m\u001b[0;34m\u001b[0m\u001b[0m\n\u001b[0;32m---> 29\u001b[0;31m     bl_returns = black_litterman_returns(\n\u001b[0m\u001b[1;32m     30\u001b[0m         \u001b[0mmean_returns\u001b[0m\u001b[0;34m,\u001b[0m\u001b[0;34m\u001b[0m\u001b[0;34m\u001b[0m\u001b[0m\n\u001b[1;32m     31\u001b[0m         \u001b[0mcov_matrix\u001b[0m\u001b[0;34m,\u001b[0m\u001b[0;34m\u001b[0m\u001b[0;34m\u001b[0m\u001b[0m\n",
            "\u001b[0;32m<ipython-input-20-342cb6ab240e>\u001b[0m in \u001b[0;36mblack_litterman_returns\u001b[0;34m(mean_returns, cov_matrix, risk_aversion, views, view_confidences)\u001b[0m\n\u001b[1;32m     26\u001b[0m         \u001b[0;31m# Access covariance matrix using column/index labels\u001b[0m\u001b[0;34m\u001b[0m\u001b[0;34m\u001b[0m\u001b[0m\n\u001b[1;32m     27\u001b[0m         \u001b[0;31m#Omega[i, i] = (1/view_confidences[asset] - 1) * cov_matrix[asset_idx[asset], asset_idx[asset]]\u001b[0m\u001b[0;34m\u001b[0m\u001b[0;34m\u001b[0m\u001b[0m\n\u001b[0;32m---> 28\u001b[0;31m         \u001b[0mOmega\u001b[0m\u001b[0;34m[\u001b[0m\u001b[0mi\u001b[0m\u001b[0;34m,\u001b[0m \u001b[0mi\u001b[0m\u001b[0;34m]\u001b[0m \u001b[0;34m=\u001b[0m \u001b[0;34m(\u001b[0m\u001b[0;36m1\u001b[0m\u001b[0;34m/\u001b[0m\u001b[0mview_confidences\u001b[0m\u001b[0;34m[\u001b[0m\u001b[0masset\u001b[0m\u001b[0;34m]\u001b[0m \u001b[0;34m-\u001b[0m \u001b[0;36m1\u001b[0m\u001b[0;34m)\u001b[0m \u001b[0;34m*\u001b[0m \u001b[0mcov_matrix\u001b[0m\u001b[0;34m[\u001b[0m\u001b[0masset_idx\u001b[0m\u001b[0;34m[\u001b[0m\u001b[0masset\u001b[0m\u001b[0;34m]\u001b[0m\u001b[0;34m,\u001b[0m \u001b[0masset_idx\u001b[0m\u001b[0;34m[\u001b[0m\u001b[0masset\u001b[0m\u001b[0;34m]\u001b[0m\u001b[0;34m]\u001b[0m\u001b[0;34m\u001b[0m\u001b[0;34m\u001b[0m\u001b[0m\n\u001b[0m\u001b[1;32m     29\u001b[0m \u001b[0;34m\u001b[0m\u001b[0m\n\u001b[1;32m     30\u001b[0m     \u001b[0;31m# Black-Litterman calculations\u001b[0m\u001b[0;34m\u001b[0m\u001b[0;34m\u001b[0m\u001b[0m\n",
            "\u001b[0;32m/usr/local/lib/python3.11/dist-packages/pandas/core/frame.py\u001b[0m in \u001b[0;36m__getitem__\u001b[0;34m(self, key)\u001b[0m\n\u001b[1;32m   4100\u001b[0m             \u001b[0;32mif\u001b[0m \u001b[0mself\u001b[0m\u001b[0;34m.\u001b[0m\u001b[0mcolumns\u001b[0m\u001b[0;34m.\u001b[0m\u001b[0mnlevels\u001b[0m \u001b[0;34m>\u001b[0m \u001b[0;36m1\u001b[0m\u001b[0;34m:\u001b[0m\u001b[0;34m\u001b[0m\u001b[0;34m\u001b[0m\u001b[0m\n\u001b[1;32m   4101\u001b[0m                 \u001b[0;32mreturn\u001b[0m \u001b[0mself\u001b[0m\u001b[0;34m.\u001b[0m\u001b[0m_getitem_multilevel\u001b[0m\u001b[0;34m(\u001b[0m\u001b[0mkey\u001b[0m\u001b[0;34m)\u001b[0m\u001b[0;34m\u001b[0m\u001b[0;34m\u001b[0m\u001b[0m\n\u001b[0;32m-> 4102\u001b[0;31m             \u001b[0mindexer\u001b[0m \u001b[0;34m=\u001b[0m \u001b[0mself\u001b[0m\u001b[0;34m.\u001b[0m\u001b[0mcolumns\u001b[0m\u001b[0;34m.\u001b[0m\u001b[0mget_loc\u001b[0m\u001b[0;34m(\u001b[0m\u001b[0mkey\u001b[0m\u001b[0;34m)\u001b[0m\u001b[0;34m\u001b[0m\u001b[0;34m\u001b[0m\u001b[0m\n\u001b[0m\u001b[1;32m   4103\u001b[0m             \u001b[0;32mif\u001b[0m \u001b[0mis_integer\u001b[0m\u001b[0;34m(\u001b[0m\u001b[0mindexer\u001b[0m\u001b[0;34m)\u001b[0m\u001b[0;34m:\u001b[0m\u001b[0;34m\u001b[0m\u001b[0;34m\u001b[0m\u001b[0m\n\u001b[1;32m   4104\u001b[0m                 \u001b[0mindexer\u001b[0m \u001b[0;34m=\u001b[0m \u001b[0;34m[\u001b[0m\u001b[0mindexer\u001b[0m\u001b[0;34m]\u001b[0m\u001b[0;34m\u001b[0m\u001b[0;34m\u001b[0m\u001b[0m\n",
            "\u001b[0;32m/usr/local/lib/python3.11/dist-packages/pandas/core/indexes/base.py\u001b[0m in \u001b[0;36mget_loc\u001b[0;34m(self, key)\u001b[0m\n\u001b[1;32m   3810\u001b[0m             ):\n\u001b[1;32m   3811\u001b[0m                 \u001b[0;32mraise\u001b[0m \u001b[0mInvalidIndexError\u001b[0m\u001b[0;34m(\u001b[0m\u001b[0mkey\u001b[0m\u001b[0;34m)\u001b[0m\u001b[0;34m\u001b[0m\u001b[0;34m\u001b[0m\u001b[0m\n\u001b[0;32m-> 3812\u001b[0;31m             \u001b[0;32mraise\u001b[0m \u001b[0mKeyError\u001b[0m\u001b[0;34m(\u001b[0m\u001b[0mkey\u001b[0m\u001b[0;34m)\u001b[0m \u001b[0;32mfrom\u001b[0m \u001b[0merr\u001b[0m\u001b[0;34m\u001b[0m\u001b[0;34m\u001b[0m\u001b[0m\n\u001b[0m\u001b[1;32m   3813\u001b[0m         \u001b[0;32mexcept\u001b[0m \u001b[0mTypeError\u001b[0m\u001b[0;34m:\u001b[0m\u001b[0;34m\u001b[0m\u001b[0;34m\u001b[0m\u001b[0m\n\u001b[1;32m   3814\u001b[0m             \u001b[0;31m# If we have a listlike key, _check_indexing_error will raise\u001b[0m\u001b[0;34m\u001b[0m\u001b[0;34m\u001b[0m\u001b[0m\n",
            "\u001b[0;31mKeyError\u001b[0m: (0, 0)"
          ]
        }
      ]
    },
    {
      "cell_type": "code",
      "source": [],
      "metadata": {
        "id": "BDzFNGsg8eeC"
      },
      "execution_count": null,
      "outputs": []
    }
  ]
}